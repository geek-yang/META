{
 "cells": [
  {
   "cell_type": "markdown",
   "metadata": {},
   "source": [
    "This script is used to test the modules."
   ]
  },
  {
   "cell_type": "code",
   "execution_count": 1,
   "metadata": {},
   "outputs": [
    {
     "name": "stdout",
     "output_type": "stream",
     "text": [
      "('64bit', '')\n",
      "<module 'posixpath' from '/home/yang/.pyenv/versions/anaconda3-5.0.1/lib/python3.6/posixpath.py'>\n"
     ]
    }
   ],
   "source": [
    "%matplotlib inline\n",
    "\n",
    "import numpy as np\n",
    "import sys\n",
    "sys.path.append(\"../\")\n",
    "import scipy\n",
    "from netCDF4 import Dataset\n",
    "import matplotlib\n",
    "import matplotlib.pyplot as plt\n",
    "import os\n",
    "import platform\n",
    "#import statistics\n",
    "import meta.ORAS4\n",
    "\n",
    "print (platform.architecture())\n",
    "print (os.path)"
   ]
  },
  {
   "cell_type": "code",
   "execution_count": 2,
   "metadata": {},
   "outputs": [
    {
     "name": "stdout",
     "output_type": "stream",
     "text": [
      "*********************** call functions *************************\n",
      "Start quantifying the meridional energy transport / ocean heat content in the ocean.\n",
      "Start quantifying the meridional energy transport / ocean heat content in the ocean.\n",
      "Start quantifying the meridional energy transport / ocean heat content in the ocean.\n",
      "Start quantifying the meridional energy transport / ocean heat content in the ocean.\n",
      "Start quantifying the meridional energy transport / ocean heat content in the ocean.\n",
      "Start quantifying the meridional energy transport / ocean heat content in the ocean.\n",
      "Start quantifying the meridional energy transport / ocean heat content in the ocean.\n",
      "Start quantifying the meridional energy transport / ocean heat content in the ocean.\n",
      "Start quantifying the meridional energy transport / ocean heat content in the ocean.\n",
      "Start quantifying the meridional energy transport / ocean heat content in the ocean.\n",
      "Start quantifying the meridional energy transport / ocean heat content in the ocean.\n",
      "Start quantifying the meridional energy transport / ocean heat content in the ocean.\n",
      "Save output fields as netCDF4 files.\n"
     ]
    }
   ],
   "source": [
    "if __name__==\"__main__\":\n",
    "    # sample\n",
    "    ################################   Input zone  ######################################\n",
    "    # specify data path\n",
    "    datapath_ORAS4 = '/mnt/Associate/DataBase/ORAS/ORAS4/Monthly/model'\n",
    "    #datapath_ERAI = '/project/Reanalysis/ERA_Interim/Subdaily/Model'\n",
    "    output_path = '/home/yang/workbench/test'\n",
    "    #output_path = '/project/Reanalysis/ERA_Interim/Subdaily/Model'\n",
    "    mask_path = '/home/yang/workbench/Core_Database_AMET_OMET_reanalysis/ORAS4/mesh_mask.nc'\n",
    "    mask_subbasin_path = '/home/yang/workbench/Core_Database_AMET_OMET_reanalysis/land_sea_mask/mask_subbasin_ORCA_MOM.nc'\n",
    "    #####################################################################################\n",
    "    print ('*********************** call functions *************************')\n",
    "    instance = meta.ORAS4.oras(datapath_ORAS4,output_path)\n",
    "    instance.ohc(1984,1984,mask_path, mask_subbasin_path)\n"
   ]
  },
  {
   "cell_type": "markdown",
   "metadata": {},
   "source": []
  }
 ],
 "metadata": {
  "kernelspec": {
   "display_name": "Python 3",
   "language": "python",
   "name": "python3"
  },
  "language_info": {
   "codemirror_mode": {
    "name": "ipython",
    "version": 3
   },
   "file_extension": ".py",
   "mimetype": "text/x-python",
   "name": "python",
   "nbconvert_exporter": "python",
   "pygments_lexer": "ipython3",
   "version": "3.6.3"
  }
 },
 "nbformat": 4,
 "nbformat_minor": 2
}
